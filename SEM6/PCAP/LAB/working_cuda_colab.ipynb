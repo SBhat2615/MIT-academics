{
  "nbformat": 4,
  "nbformat_minor": 0,
  "metadata": {
    "colab": {
      "provenance": [],
      "gpuType": "T4",
      "include_colab_link": true
    },
    "kernelspec": {
      "name": "python3",
      "display_name": "Python 3"
    },
    "language_info": {
      "name": "python"
    },
    "accelerator": "GPU",
    "gpuClass": "standard"
  },
  "cells": [
    {
      "cell_type": "markdown",
      "metadata": {
        "id": "view-in-github",
        "colab_type": "text"
      },
      "source": [
        "<a href=\"https://colab.research.google.com/github/SBhat2615/MIT-academics/blob/main/SEM6/PCAP/LAB/working_cuda_colab.ipynb\" target=\"_parent\"><img src=\"https://colab.research.google.com/assets/colab-badge.svg\" alt=\"Open In Colab\"/></a>"
      ]
    },
    {
      "cell_type": "code",
      "source": [
        "# To show that if there is cuda tookit installed\n",
        "!ls /usr/local"
      ],
      "metadata": {
        "id": "FJNaVYXrsyX1",
        "colab": {
          "base_uri": "https://localhost:8080/"
        },
        "outputId": "302de355-19bb-49ce-ef45-8ead59efbf68"
      },
      "execution_count": null,
      "outputs": [
        {
          "output_type": "stream",
          "name": "stdout",
          "text": [
            "bin    cuda\tcuda-11.8  games\t       include\tlib64\t   man\t share\n",
            "colab  cuda-11\tetc\t   _gcs_config_ops.so  lib\tlicensing  sbin  src\n"
          ]
        }
      ]
    },
    {
      "cell_type": "code",
      "source": [
        "# To show that if we have the nvcc command\n",
        "!which nvcc"
      ],
      "metadata": {
        "id": "EWeDREa1tIGH",
        "colab": {
          "base_uri": "https://localhost:8080/"
        },
        "outputId": "00799d96-b111-4141-8fa1-17847b07b38e"
      },
      "execution_count": null,
      "outputs": [
        {
          "output_type": "stream",
          "name": "stdout",
          "text": [
            "/usr/local/cuda/bin/nvcc\n"
          ]
        }
      ]
    },
    {
      "cell_type": "code",
      "source": [
        "# To show the property of the nvidia card(On my one, I use the K80)\n",
        "!nvidia-smi"
      ],
      "metadata": {
        "id": "hctj5aYxtSwK",
        "colab": {
          "base_uri": "https://localhost:8080/"
        },
        "outputId": "41d7fcb6-bf20-4668-9f35-cd0689ec5a03"
      },
      "execution_count": null,
      "outputs": [
        {
          "output_type": "stream",
          "name": "stdout",
          "text": [
            "Wed Apr 19 03:37:18 2023       \n",
            "+-----------------------------------------------------------------------------+\n",
            "| NVIDIA-SMI 525.85.12    Driver Version: 525.85.12    CUDA Version: 12.0     |\n",
            "|-------------------------------+----------------------+----------------------+\n",
            "| GPU  Name        Persistence-M| Bus-Id        Disp.A | Volatile Uncorr. ECC |\n",
            "| Fan  Temp  Perf  Pwr:Usage/Cap|         Memory-Usage | GPU-Util  Compute M. |\n",
            "|                               |                      |               MIG M. |\n",
            "|===============================+======================+======================|\n",
            "|   0  Tesla T4            Off  | 00000000:00:04.0 Off |                    0 |\n",
            "| N/A   58C    P8     9W /  70W |      0MiB / 15360MiB |      0%      Default |\n",
            "|                               |                      |                  N/A |\n",
            "+-------------------------------+----------------------+----------------------+\n",
            "                                                                               \n",
            "+-----------------------------------------------------------------------------+\n",
            "| Processes:                                                                  |\n",
            "|  GPU   GI   CI        PID   Type   Process name                  GPU Memory |\n",
            "|        ID   ID                                                   Usage      |\n",
            "|=============================================================================|\n",
            "|  No running processes found                                                 |\n",
            "+-----------------------------------------------------------------------------+\n"
          ]
        }
      ]
    },
    {
      "cell_type": "code",
      "source": [
        "%%writefile final.cu\n",
        "#include \"cuda_runtime.h\"\n",
        "#include \"device_launch_parameters.h\"\n",
        "#include <stdio.h>\n",
        "#include <stdlib.h>\n",
        "__global__ void rotate(char *s, int *index, char *res, int s1, int s2, int n)\n",
        "{\n",
        "\tint blockid = blockIdx.x, tid = threadIdx.x, start = index[blockid], end = index[blockid+1], size = start-end-1, m = n*size;\n",
        "\tif(tid < size){\n",
        "\t\tres[start+tid] = s[start+(tid+m)%size]\n",
        "\t}\n",
        "\n",
        "\t\n",
        "}\n",
        "\t\n",
        "int main(void)\n",
        "{\n",
        "\tint *d_s, *d_index;\n",
        "\tchar s[20], res[20];\n",
        "\tint index[10];\n",
        "\n",
        "\tprintf(\"Enter string s:\\n\");\n",
        "\tscanf(\"%[^\\n]\", s);\n",
        "\n",
        "\tint size1 = strlen(s)*sizeof(char);\n",
        "\tindex[0] = 0;\n",
        "\tint j = 0;\n",
        "\tfor(int i = 0; i < size1; i++){\n",
        "\t\tif(s[i] == ' '){\n",
        "\t\t\tif(maxi < i-index[j])\n",
        "\t\t\t\tmaxi = i-index[j];\n",
        "\t\t\tindex[++j] = i+1;\n",
        "\t\t}\n",
        "\t}\n",
        "\n",
        "\tint size2 = j*sizeof(int);\n",
        "\n",
        "\tcudaMalloc((void**)&d_s, size1);\n",
        "\tcudaMalloc((void**)&d_res, size1);\n",
        "\tcudaMalloc((void**)&d_index, size2);\n",
        "\n",
        "\tcudaMemcpy(d_s, s, size1, cudaMemcpyHostToDevice);\n",
        "\tcudaMemcpy(d_index, index, size2, cudaMemcpyHostToDevice);\n",
        "\n",
        "\tdim3 grid(j);\n",
        "\tdim3 block(maxi);\n",
        "\trotate<<<grid, block>>>(d_s, d_index, d_res, size1, size2, 3);\n",
        "\n",
        "\tcudaMemcpy(res, d_res, size1, cudaMemcpyDeviceToHost);\n",
        "\t//printf(\"cuda successfully ran!\\n\");\n",
        "\n",
        "\tprintf(\"Result string is:\\n\");\n",
        "\tprintf(\"%s\", res);\n",
        "\tgetchar();\n",
        "\tcudaFree(d_a);\n",
        "\tcudaFree(d_b);\n",
        "\tcudaFree(d_t);\n",
        "\treturn 0;\n",
        "}"
      ],
      "metadata": {
        "colab": {
          "base_uri": "https://localhost:8080/"
        },
        "id": "I4iAoMrRa1zM",
        "outputId": "181c8174-be6e-4eb5-8793-7d4aa22f5d62"
      },
      "execution_count": null,
      "outputs": [
        {
          "output_type": "stream",
          "name": "stdout",
          "text": [
            "Overwriting l9q1a.cu\n"
          ]
        }
      ]
    },
    {
      "cell_type": "code",
      "source": [
        "!nvcc final.cu -o final"
      ],
      "metadata": {
        "colab": {
          "base_uri": "https://localhost:8080/"
        },
        "id": "MgZKDm09a8V2",
        "outputId": "9f266fd3-ff45-4314-b187-c148bf5559cc"
      },
      "execution_count": null,
      "outputs": [
        {
          "output_type": "stream",
          "name": "stdout",
          "text": [
            "nvcc warning : The 'compute_35', 'compute_37', 'sm_35', and 'sm_37' architectures are deprecated, and may be removed in a future release (Use -Wno-deprecated-gpu-targets to suppress warning).\n"
          ]
        }
      ]
    },
    {
      "cell_type": "code",
      "source": [
        "!./final"
      ],
      "metadata": {
        "colab": {
          "base_uri": "https://localhost:8080/"
        },
        "id": "8crnGl6DaLwN",
        "outputId": "a5dc0355-090f-4129-d416-aa844f78e838"
      },
      "execution_count": null,
      "outputs": [
        {
          "output_type": "stream",
          "name": "stdout",
          "text": [
            "Enter the value of m: 2\n",
            "Enter the value of n: 2\n",
            "Enter input matrix A:\n",
            "2 4 5 6\n",
            "Enter input matrix B:\n",
            "7 8 3 2\n",
            "cuda successfully ran!\n",
            "cuda successfully ran!\n",
            "Result matrix is:\n",
            "9\t12\t\n",
            "8\t8\t\n"
          ]
        }
      ]
    },
    {
      "cell_type": "code",
      "source": [
        "%%writefile example.cu\n",
        "#include \"cuda_runtime.h\"\n",
        "#include \"device_launch_parameters.h\"\n",
        "#include <stdio.h>\n",
        "#include <stdlib.h>\n",
        "__global__ void operate(int* a, int* b, int n, int m)\n",
        "{\n",
        "  printf(\"Kernel called !!\\n\");\n",
        "  int cid = threadIdx.y * blockDim.x + threadIdx.x;\n",
        "  int rid = threadIdx.x * blockDim.y + threadIdx.y;\n",
        "  printf(\"rid = %d && cid = %d\\n\", rid, cid);\n",
        "  if(cid != 0 || rid != 0 || cid != n || rid != m){\n",
        "    b[rid*m+cid] = 0;\n",
        "    printf(\"first - last\\n\");\n",
        "  }\n",
        "  else{\n",
        "    b[rid*m+cid] = 1;\n",
        "    printf(\"middle\");\n",
        "  }\n",
        "}\n",
        "\t\n",
        "int main(void)\n",
        "{\n",
        "\tint m, n, size;\n",
        "  int *a, *b;\n",
        "  int *d_a, *d_b;\n",
        "\n",
        "  printf(\"Enter size of matrix: \");\n",
        "  scanf(\"%d %d\", &m, &n);\n",
        "\n",
        "  size = sizeof(int)*m*n;\n",
        "  a = (int*)malloc(size);\n",
        "  b = (int*)malloc(size);\n",
        "\n",
        "\tprintf(\"Enter matrix A:\\n\");\n",
        "\tfor(int i = 0; i < m*n; i++){\n",
        "    scanf(\"%d\", &a[i]);\n",
        "  }\n",
        "\n",
        "\tcudaMalloc((void**)&d_a, size);\n",
        "  cudaMalloc((void**)&d_b, size);\n",
        "\n",
        "\tcudaMemcpy(d_a, a, size, cudaMemcpyHostToDevice);\n",
        "\n",
        "\toperate<<<1, (m,n)>>>(d_a, d_b, n, m);\n",
        "\n",
        "  cudaMemcpy(b, d_b, size, cudaMemcpyDeviceToHost);\n",
        "\n",
        "\tprintf(\"Matrix result:\\n\");\n",
        "  for(int i = 0; i < m; i++){\n",
        "    for(int j = 0; j < n; j++){\n",
        "      printf(\"%d \", b[i*n + j]);\n",
        "    }\n",
        "    printf(\"\\n\");\n",
        "  }\n",
        "  \n",
        "\tgetchar();\n",
        "\tcudaFree(d_a);\n",
        "\treturn 0;\n",
        "}"
      ],
      "metadata": {
        "id": "euV9F4c4C9S-",
        "colab": {
          "base_uri": "https://localhost:8080/"
        },
        "outputId": "34be8e04-572a-4465-dedf-d73bbc22f4cf"
      },
      "execution_count": 14,
      "outputs": [
        {
          "output_type": "stream",
          "name": "stdout",
          "text": [
            "Overwriting example.cu\n"
          ]
        }
      ]
    },
    {
      "cell_type": "code",
      "source": [
        "!nvcc example.cu"
      ],
      "metadata": {
        "id": "iOG6WHqZSIH6",
        "outputId": "92ea0b32-fdd4-4af6-82a3-0bc318d01a84",
        "colab": {
          "base_uri": "https://localhost:8080/"
        }
      },
      "execution_count": 15,
      "outputs": [
        {
          "output_type": "stream",
          "name": "stdout",
          "text": [
            "\u001b[01m\u001b[0m\u001b[01mexample.cu(44)\u001b[0m: \u001b[01;35mwarning\u001b[0m #174-D: expression has no effect\n",
            "\n",
            "\u001b[01m\u001b[0m\u001b[01mexample.cu(44)\u001b[0m: \u001b[01;35mwarning\u001b[0m #174-D: expression has no effect\n",
            "\n"
          ]
        }
      ]
    },
    {
      "cell_type": "code",
      "source": [
        "!./a.out"
      ],
      "metadata": {
        "id": "wzeEtnWkhaMd",
        "outputId": "a7467e47-3e8f-46a6-82a5-7941478d16fe",
        "colab": {
          "base_uri": "https://localhost:8080/"
        }
      },
      "execution_count": 16,
      "outputs": [
        {
          "output_type": "stream",
          "name": "stdout",
          "text": [
            "Enter size of matrix: 4 4\n",
            "Enter matrix A:\n",
            "1 2 3 4 6 5 8 3 2 4 10 1 9 1 2 5\n",
            "Kernel called !!\n",
            "Kernel called !!\n",
            "Kernel called !!\n",
            "Kernel called !!\n",
            "rid = 0 && cid = 0rid = 1 && cid = 1rid = 2 && cid = 2rid = 3 && cid = 3first - last\n",
            "first - last\n",
            "first - last\n",
            "first - last\n",
            "Matrix result:\n",
            "0 0 0 0 \n",
            "0 0 0 0 \n",
            "0 0 0 0 \n",
            "0 0 0 0 \n"
          ]
        }
      ]
    },
    {
      "cell_type": "code",
      "source": [],
      "metadata": {
        "id": "p3MNVXQLiTCK"
      },
      "execution_count": null,
      "outputs": []
    }
  ]
}